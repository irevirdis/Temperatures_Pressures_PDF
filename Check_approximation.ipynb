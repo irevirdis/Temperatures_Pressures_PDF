{
 "cells": [
  {
   "cell_type": "markdown",
   "metadata": {},
   "source": [
    "## Statistics of the turbine efficiency using Polynomial approximation\n",
    "In this notebook will be compared the values of mean and variance for the turbine efficiency using a Polynomial approximation: to this aim the method $\\textit{computeCoefficients} $ of $\\textit{Polyint}$ class has been used.\n",
    "\n",
    "### Section 1: Evaluation of the polynomial Coefficients.\n",
    "This first part of the script aims to calculate the polynomial coefficients, starting from the definition of the turbine efficiency: the problem has four dimensions (two variables associated to the Inlet and Outlet Temperature and an other couple for the Inlet and Outlet Pressure) so a set of Uniform distributions has been created to generate an orthogonal basis; each distribution has been centered with respect to the mean value of the associated physical magnitude.\n",
    "\n",
    "A blackbox renamed $\\textit{efficiency}$ has been written to obtain the isotropic turbine efficiency; this later represents the input to the method $\\textit{ComputeCoefficients}$: the blackbox is tested over the range of values defined by the boundaries of the statistical distributions and the output is an array of polynomial coefficients for the numerical approximation."
   ]
  },
  {
   "cell_type": "code",
   "execution_count": 10,
   "metadata": {},
   "outputs": [],
   "source": [
    "import numpy as np\n",
    "from equadratures import *\n",
    "\n",
    "#------------------------------------------------------------------#\n",
    "# PART 2\n",
    "# Polyint class instance\n",
    "\n",
    "myBasis = Basis('Tensor grid')\n",
    "uni_1   = Parameter(distribution='uniform', order=5, upper=810, lower=790)\n",
    "uni_2   = Parameter(distribution='uniform', order=5, upper=710, lower=690)\n",
    "uni_3   = Parameter(distribution='uniform', order=5, upper=9*10**5, lower=11*10**5)\n",
    "uni_4   = Parameter(distribution='uniform', order=5, upper=4*10**5, lower=6*10**5)\n",
    "myPolyint = Polyint([uni_1, uni_2, uni_3, uni_4], myBasis)\n",
    "\n",
    "def efficiency(x):\n",
    "    t1 = x[0]\n",
    "    t2 = x[1]\n",
    "    p1 = x[2]\n",
    "    p2 = x[3]\n",
    "    gamma = 1.4\n",
    "    eta   = (t1 - t2)/(t1 *(1- (p2/p1)**((gamma-1)/gamma)))\n",
    "    return eta\n",
    "\n",
    "myPolyint.computeCoefficients(efficiency)\n",
    "coeff = myPolyint.coefficients\n"
   ]
  },
  {
   "cell_type": "markdown",
   "metadata": {},
   "source": [
    "### Part 2: generate the polynomial approximation of the efficiency blackbox\n",
    "\n",
    "In this part we are interested in calculating the terms inside the polynomial approximation, given the coefficients reported in the section above. Four nested $\\textit{for loop}$ have been reported inside the first part of the function $\\textit{poly_approx}$: the external $\\textit{for statement}$ is associated to the variable $\\textit{T1}$, while the inner is related to the outlet pressure $\\textit{P2}$; the index of each $\\textit{for loop}$ represent the power of the related physical magnitude; inside the statement is present the variable $\\textit{t}$, associated to the index of the present polynomial coefficient.\n",
    "The check of the order is done by summing the power of each physical magnitude and the obtained result is stored inside a list. Only the coefficients with a value greater than $10^{-3}$ will be taken into account for the polynomial approximation."
   ]
  },
  {
   "cell_type": "code",
   "execution_count": 11,
   "metadata": {},
   "outputs": [],
   "source": [
    "#------------------------------------------------------------------#\n",
    "#   PART 2\n",
    "#   generate a polynomial approximation of the efficiency blackbox\n",
    "\n",
    "max_order = (uni_1.order +1)\n",
    "#print 'the value of the maximum order is:', max_ordeur\n",
    "order_info = list()\n",
    "\n",
    "def poly_approx(t1, t2, p1, p2):\n",
    "    \"\"\" blackbox written to assign the polynomial coeffiecients to the power of \n",
    "        temperatures and pressures.\n",
    "    \"\"\"\n",
    "    t = 0 # index of the i_th element inside the array myPolyint.coefficients and Eta array\n",
    "    for i in range (int(max_order)):\n",
    "        # i will be the index associated to the power of temperature T1\n",
    "        for j in range(int(max_order)):\n",
    "            # j will be associated to the power of temperature T2\n",
    "            for k in range(int(max_order)):\n",
    "                # k will be associated to th power of pressure P1\n",
    "                for h in range(int(max_order)):\n",
    "                    # h will the power of pressure P2\n",
    "\n",
    "                    # in the following lines:\n",
    "                    # x[0]=T1, x[1]=T2, x[2]=P1, x[3]=P2\n",
    "                    # only the coefficients > 10**3 will be taken into account\n",
    "\n",
    "                    if coeff[t] > 10**(-3):\n",
    "                        #print 'the size of x[0] is:', t1.shape\n",
    "                        #print 'the type of x[0] is :', type(t1)\n",
    "                        np.set_printoptions(threshold=np.nan)\n",
    "                        #print 'the total array of x[0] is:', x1\n",
    "                        eta =  coeff[t]*(t1**i + t2**j + p1**k + p2**h)\n",
    "                        #print 'the value of t is:', t\n",
    "                        sum_of_power     = int(i+j+k+h)\n",
    "                        order_info.append(sum_of_power)\n",
    "                    else:\n",
    "                        eta = 0.0\n",
    "                    t = int(t+1) # pass to the following element inside coefficients array\n",
    "    return eta"
   ]
  },
  {
   "cell_type": "markdown",
   "metadata": {},
   "source": [
    "### Part 3 : Sample the polynomial approximation with uncorrelated points\n",
    "\n",
    "A set of quadrature points has been obtained by using four normal distributions as a Tensor Grid Basis; the matrix of samples has been finally passed as input to the approximation function $\\textit{poly_approx}$, to get the related values of turbine efficiency; the mean and the variance of the results have been reported as reported in the code below, together with the value of the maximum order ot the polynomial approximation and the number of the terms inside this later."
   ]
  },
  {
   "cell_type": "code",
   "execution_count": 12,
   "metadata": {},
   "outputs": [
    {
     "name": "stdout",
     "output_type": "stream",
     "text": [
      "---------------------------\n",
      "Uncorrelated data:\n",
      "mean: 0.7140620294807684\n",
      "variance: 0.019144080964785214\n",
      "the maximum value of order is: 3\n",
      "the number of terms inside the polynomial approximantion is: 12960\n",
      "---------------------------\n"
     ]
    }
   ],
   "source": [
    "#-----------------------------------------------------------------#\n",
    "#   PART 3\n",
    "#   Sample with uncorrelated points\n",
    "#   1) generation of quadrature points\n",
    "\n",
    "normal = Parameter(distribution='gaussian', shape_parameter_A=0., shape_parameter_B=1., order=5)\n",
    "stdPoly = Polyint([normal, normal, normal, normal], myBasis)\n",
    "points = stdPoly.quadraturePoints\n",
    "\n",
    "myStats = myPolyint.getStatistics()\n",
    "\n",
    "\n",
    "#--------------- statistics of uncorrelated points ---------------#\n",
    "\n",
    "res = np.zeros((len(points),1))\n",
    "for i in range(len(points)):\n",
    "    res[i] = poly_approx(points[i,0], points[i,1], points[i,2], points[i,3])\n",
    "myPolyint.computeCoefficients(res)\n",
    "print ('---------------------------')\n",
    "print ('Uncorrelated data:')\n",
    "print ('mean:', myStats.mean)\n",
    "print ('variance:', myStats.variance)\n",
    "print ('the maximum value of order is:', max(order_info))\n",
    "print ('the number of terms inside the polynomial approximantion is:', len(order_info))\n",
    "print ('---------------------------')"
   ]
  },
  {
   "cell_type": "markdown",
   "metadata": {},
   "source": [
    "### Part 4: Procedure for correlated points\n",
    "\n",
    "The same procedure has been followed to check che mean and the variance in the case in which the data are correleted using a Nataf transformation: to this aim the instance of four distinct truncated-gaussians have beend done and a correlation matrix have been defined; once the instance to Nataf has been done, the method $\\textit{U2C}$ has been used to map the quadrature points from the standard space to the physical, correlated space."
   ]
  },
  {
   "cell_type": "code",
   "execution_count": 14,
   "metadata": {},
   "outputs": [
    {
     "name": "stdout",
     "output_type": "stream",
     "text": [
      "The Cholesky decomposition of fictive matrix R0 is:\n",
      "[[1.        0.        0.        0.       ]\n",
      " [0.3       0.9539392 0.        0.       ]\n",
      " [0.        0.        1.        0.       ]\n",
      " [0.        0.        0.6       0.8      ]]\n",
      "The fictive matrix is:\n",
      "[[1.  0.3 0.  0. ]\n",
      " [0.3 1.  0.  0. ]\n",
      " [0.  0.  1.  0.6]\n",
      " [0.  0.  0.6 1. ]]\n"
     ]
    }
   ],
   "source": [
    "# ------------- statistics for uncorrelated points ---------------#\n",
    "\n",
    "# 2) generation of all the elements due to the Nataf instance\n",
    "# 2.1 truncated gaussian distributions, centered with respect to the mean values of temperatures and pressures\n",
    "T01 = 800.\n",
    "distr1 = Parameter(distribution='truncated-gaussian', shape_parameter_A = T01, shape_parameter_B = 1., order=5, upper=T01*1.1, lower=T01*.9)\n",
    "T02 = 700.\n",
    "distr2 = Parameter(distribution='truncated-gaussian', shape_parameter_A = T02, shape_parameter_B = 1., order=5, upper=T02*1.1, lower=T02*.9)\n",
    "P01 = 10*10**5\n",
    "distr3 = Parameter(distribution='truncated-gaussian', shape_parameter_A = P01, shape_parameter_B = 1., order=5, upper=P01*1.1, lower=P01*.9)\n",
    "P02 = .5*10**5\n",
    "distr4 = Parameter(distribution='truncated-gaussian', shape_parameter_A = P02, shape_parameter_B = 1., order=5, upper=P02*1.1, lower=P02*.9)\n",
    "\n",
    "# 2.2 Correlation matrix\n",
    "R = np.array([[1., .3, 0., 0.],\n",
    "              [.3, 1., 0., 0.],\n",
    "              [0., 0., 1., .6],\n",
    "              [0., 0., .6, 1.]])\n",
    "# 2.3 Instance to Nataf class\n",
    "myNataf = Nataf([distr1, distr2, distr3, distr3], R)\n",
    "\n",
    "# 2.4 Correlation among quadrature points\n",
    "pc  = myNataf.U2C(points)"
   ]
  },
  {
   "cell_type": "markdown",
   "metadata": {},
   "source": [
    "The obtained points have been passed as input to the approximation function $\\textit{poly_approx}$, as reported below, and finally the statistics have been computed."
   ]
  },
  {
   "cell_type": "code",
   "execution_count": 16,
   "metadata": {},
   "outputs": [
    {
     "name": "stdout",
     "output_type": "stream",
     "text": [
      "---------------------------\n",
      "Uncorrelated data:\n",
      "mean: 0.7140620294807684\n",
      "variance: 0.019144080964785214\n",
      "the maximum value of order is: 3\n",
      "the number of terms inside the polynomial approximantion is: 25920\n",
      "---------------------------\n"
     ]
    }
   ],
   "source": [
    "res = np.zeros((len(pc),1))\n",
    "\n",
    "# 2.5 application of the polynomial approximation to the correlated points\n",
    "for i in range(len(pc)):\n",
    "    res[i] = poly_approx(pc[i,0], pc[i,1], pc[i,2], pc[i,3])\n",
    "myPolyint.computeCoefficients(res)\n",
    "np.set_printoptions(threshold=np.nan)\n",
    "\n",
    "# 2.6 print of mean and variance\n",
    "print ('---------------------------')\n",
    "print ('Uncorrelated data:')\n",
    "print ('mean:', myStats.mean)\n",
    "print ('variance:', myStats.variance)\n",
    "print ('the maximum value of order is:', max(order_info))\n",
    "print ('the number of terms inside the polynomial approximantion is:', len(order_info))\n",
    "print ('---------------------------')"
   ]
  },
  {
   "cell_type": "code",
   "execution_count": null,
   "metadata": {},
   "outputs": [],
   "source": []
  }
 ],
 "metadata": {
  "kernelspec": {
   "display_name": "Python 2",
   "language": "python",
   "name": "python2"
  },
  "language_info": {
   "codemirror_mode": {
    "name": "ipython",
    "version": 3
   },
   "file_extension": ".py",
   "mimetype": "text/x-python",
   "name": "python",
   "nbconvert_exporter": "python",
   "pygments_lexer": "ipython3",
   "version": "3.6.5"
  }
 },
 "nbformat": 4,
 "nbformat_minor": 2
}
