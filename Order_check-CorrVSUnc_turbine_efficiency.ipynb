{
 "cells": [
  {
   "cell_type": "markdown",
   "metadata": {},
   "source": [
    "## Order check of the turbine efficiency \n",
    "### comparison between correlated and uncorrelated sets of data\n",
    "In this notebook the comparison between turbine efficiency obtained using correlated or uncorrelated temperatures and pressures will be done. To this aim the method $\\textit{computeCoefficient}$ of the class $\\textit{Polyint}$ has been used.\n",
    "\n",
    "### Generation of the Basis\n",
    "In the first part of the script a Basis has been contructed using four uniform distributions; the central values has been adapted to ensure that they corresponds to the mean values of temperatures and pressures.\n",
    "- Question 1: Is it necessary? Is there a conceptual error?\n"
   ]
  },
  {
   "cell_type": "code",
   "execution_count": null,
   "metadata": {},
   "outputs": [],
   "source": [
    "import numpy as np\n",
    "from equadratures import *\n",
    "\n",
    "import matplotlib.pyplot as plt\n",
    "from mpl_toolkits.mplot3d import axes3d\n",
    "from matplotlib import cm\n",
    "\n",
    "#----------------------------------------------------------------#\n",
    "#  Polyint class instance.\n",
    "\n",
    "myBasis   = Basis('Tensor grid')\n",
    "uni_1  = Parameter(order=5, distribution='uniform', upper=810, lower =790)\n",
    "uni_2  = Parameter(order=5, distribution='uniform', upper=710, lower =690)\n",
    "uni_3  = Parameter(order=5, distribution='uniform', upper=9*10**5, lower=11*10**5)\n",
    "uni_4  = Parameter(order=5, distribution='uniform', upper=4*10**5, lower=6*10**5)\n",
    "myPolyint = Polyint([uni_1, uni_2, uni_3, uni_4], myBasis)"
   ]
  },
  {
   "cell_type": "markdown",
   "metadata": {},
   "source": [
    "### Definition of the Efficiency function\n",
    "The Turbine Efficiency function has been specified as reported in the lines below: \n",
    "- (PART 1) The input $x$ rappresents an array containing four magnitudes (Temperatures T01, T02 and Pressures P01, P02), so it specifies the problem dimension.\n",
    "- (PART 2) The mean values of each magnitude has been set because four different truncated-gaussian distributions have to be created for the Nataf class instance; the correlation matrix $R$ has been defined in the end of this part.\n",
    "- (PART 3) This part contains the lines that will be used only in the case in which the correlated points have to used for the calculation of the turbine efficiency.\n",
    "- (PART 4) In the last part the general formula of the turbine efficiency has been specified with its return statement."
   ]
  },
  {
   "cell_type": "code",
   "execution_count": null,
   "metadata": {},
   "outputs": [],
   "source": [
    "def efficiency(x):\n",
    "    # (PART 1)\n",
    "    t1 = x[0]\n",
    "    t2 = x[1]\n",
    "    p1 = x[2]\n",
    "    p2 = x[3]\n",
    "    gamma =1.4\n",
    "\n",
    "    \"\"\" (PART 2)\n",
    "        construction of the correlated points: \n",
    "        temperatures and pressures\n",
    "    \"\"\"\n",
    "    T01 = 800.\n",
    "    T02 = 700.\n",
    "    P01 = 10*10**5\n",
    "    P02 = 5*10**5\n",
    "    \n",
    "    distr_t1 = Parameter(distribution='truncated-gaussian', order=5, shape_parameter_A = T01, shape_parameter_B = 1., upper = T01*1.1, lower = T01*.9)\n",
    "    distr_t2 = Parameter(distribution='truncated-gaussian', order=5, shape_parameter_A = T02, shape_parameter_B = 1., upper = T02*1.1, lower = T02*.9)\n",
    "    distr_p1 = Parameter(distribution='truncated-gaussian', order=5, shape_parameter_A = P01, shape_parameter_B = 1., upper = P01*1.1, lower = P01*.9)\n",
    "    distr_p2 = Parameter(distribution='truncated-gaussian', order=5, shape_parameter_A = P02, shape_parameter_B = 1., upper = P02*1.1, lower = P02*.9)\n",
    "    \n",
    "    # definition of the correlation matrix\n",
    "    R = np.matrix([[1., .3, 0., 0.],\n",
    "                   [.3, 1., 0., 0.],\n",
    "                   [0., 0., 1., .6],\n",
    "                   [0., 0., .6, 1.]])\n",
    "    \n",
    "    # (PART 3)\n",
    "    \n",
    "    ##------------------------------------------------------------------------------#\n",
    "    ## the lines from 58 to 70 have been commented in the case of uncorrelad \n",
    "    ## temperatures and pressures\n",
    "    ##------------------------------------------------------------------------------#\n",
    "    ## definition of a nataf object\n",
    "    #nataf_obj = Nataf([distr_t1, distr_t2, distr_p1, distr_p2], R) \n",
    "\n",
    "    ## arrays of samples\n",
    "    #unco_pnts = np.matrix([t1, t2, p1, p2])\n",
    "    #corr_pnts = nataf_obj.U2C(unco_pnts) \n",
    "\n",
    "    ## definition of the two sets that will be used \n",
    "    ## and turbine efficiency\n",
    "\n",
    "    #t1 = corr_pnts[0,0]\n",
    "    #t2 = corr_pnts[0,1]\n",
    "    #p1 = corr_pnts[0,2]\n",
    "    #p2 = corr_pnts[0,3]\n",
    "    ##------------------------------------------------------------------------------#\n",
    "    \n",
    "    #(PART 4)\n",
    "    eta = (t1 -t2)/(t1* (1- (p2/p1)**((gamma-1.)/gamma)))\n",
    "\n",
    "    return eta\n",
    "\n",
    "    "
   ]
  },
  {
   "cell_type": "markdown",
   "metadata": {},
   "source": [
    "Finally the method $\\textit{computeCoefficients}$ has been used to define the polynomial coefficients."
   ]
  },
  {
   "cell_type": "code",
   "execution_count": null,
   "metadata": {},
   "outputs": [],
   "source": [
    "myPolyint.computeCoefficients(efficiency)"
   ]
  },
  {
   "cell_type": "markdown",
   "metadata": {},
   "source": [
    "In the lines below the first two coefficients (related to the Temperatures) have been plotted (the example reported in the EQ tutorials has been used to this aim).\n",
    "- Question: The two plotted coefficients are related to the first two magnitudes, so the temperatures: is it right?"
   ]
  },
  {
   "cell_type": "code",
   "execution_count": null,
   "metadata": {},
   "outputs": [],
   "source": [
    "#--------------------------------------------------------------#\n",
    "# from EQ documentation: comparison among coefficients\n",
    "#--------------------------------------------------------------#\n",
    "x,y,z, max_order = utils.twoDgrid(myPolyint.coefficients, myPolyint.basis.elements)\n",
    "G = np.log10(np.abs(z))\n",
    "fig = plt.figure()\n",
    "ax = fig.add_subplot(1,1,1)\n",
    "cax = plt.scatter(x,y,s=480, marker='o', c=G, cmap='jet', alpha=.8)\n",
    "plt.xlim(-.5, max_order)\n",
    "plt.ylim(-.5, max_order)\n",
    "adjust_spines(ax, ['left', 'bottom'])\n",
    "ax.set_axisbelow(True)\n",
    "plt.xlabel('coeff 1')\n",
    "plt.ylabel('coeff 2')\n",
    "plt.title(\"Uncorrelated Temp.and Pres.\")\n",
    "cbar = plt.colorbar(extend ='neither', spacing='proportional', orientation='vertical', shrink=.8, format=\"%.0f\")\n",
    "cbar.ax.tick_params(labelsize=13)\n",
    "plt.savefig('Coefficients_uncorrelated1.png', dpi=200, bbox_inches='tight')\n",
    "plt.close()\n",
    "#print 'the coefficients are:', myPolyint.coefficients\n",
    "#print 'the size of coefficients are:', (myPolyint.coefficients).shape"
   ]
  },
  {
   "cell_type": "markdown",
   "metadata": {},
   "source": [
    "### Plots of the results \n",
    "The figure $\\textit{Coefficients_ uncorrelated1.png}$ reports the results in the case in which temperatures and pressures are not correlated, while $\\textit{Coefficients_ correlated1.png}$ is rappresentative of the results for the correlated data set of points."
   ]
  }
 ],
 "metadata": {
  "kernelspec": {
   "display_name": "Python 2",
   "language": "python",
   "name": "python2"
  },
  "language_info": {
   "codemirror_mode": {
    "name": "ipython",
    "version": 3
   },
   "file_extension": ".py",
   "mimetype": "text/x-python",
   "name": "python",
   "nbconvert_exporter": "python",
   "pygments_lexer": "ipython3",
   "version": "3.6.5"
  }
 },
 "nbformat": 4,
 "nbformat_minor": 2
}
